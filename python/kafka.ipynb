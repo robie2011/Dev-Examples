{
 "cells": [
  {
   "cell_type": "code",
   "execution_count": 1,
   "metadata": {},
   "outputs": [],
   "source": [
    "#%conda install -c conda-forge kafka-python"
   ]
  },
  {
   "cell_type": "code",
   "execution_count": 43,
   "metadata": {},
   "outputs": [],
   "source": [
    "from time import sleep\n",
    "from json import dumps\n",
    "from kafka import KafkaProducer\n",
    "from kafka import KafkaConsumer\n",
    "from json import loads\n",
    "import datetime\n",
    "topicname = \"bobby\""
   ]
  },
  {
   "cell_type": "code",
   "execution_count": null,
   "metadata": {},
   "outputs": [],
   "source": [
    "producer = KafkaProducer(bootstrap_servers=['mqtt.ketag.io:9092'],\n",
    "                         value_serializer=lambda x: \n",
    "                         dumps(x).encode('utf-8'))\n",
    "\n",
    "a = producer.send(topicname, value=f\"hello world {datetime.datetime.now()}\")\n",
    "print(a.get())"
   ]
  },
  {
   "cell_type": "code",
   "execution_count": null,
   "metadata": {},
   "outputs": [
    {
     "name": "stdout",
     "output_type": "stream",
     "text": [
      "hello world\n",
      "hello world\n",
      "hello world\n",
      "hello world\n",
      "hello world 2019-05-20 13:02:16.192065\n",
      "hello world 2019-05-20 15:03:18.035497\n",
      "hello world 2019-05-20 15:03:22.300968\n",
      "hello world 2019-05-20 15:03:30.684646\n"
     ]
    }
   ],
   "source": [
    "consumer = KafkaConsumer(\n",
    "    topicname,\n",
    "    auto_offset_reset='earliest',\n",
    "     bootstrap_servers=['mqtt.ketag.io:9092'],\n",
    "     value_deserializer=lambda x: loads(x.decode('utf-8')))\n",
    "\n",
    "\n",
    "# this is a blocking call. It display result as soon as they arrive\n",
    "for m in consumer:\n",
    "    print(m.value)"
   ]
  }
 ],
 "metadata": {
  "kernelspec": {
   "display_name": "Python 3",
   "language": "python",
   "name": "python3"
  },
  "language_info": {
   "codemirror_mode": {
    "name": "ipython",
    "version": 3
   },
   "file_extension": ".py",
   "mimetype": "text/x-python",
   "name": "python",
   "nbconvert_exporter": "python",
   "pygments_lexer": "ipython3",
   "version": "3.6.7"
  }
 },
 "nbformat": 4,
 "nbformat_minor": 2
}
